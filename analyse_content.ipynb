{
 "cells": [
  {
   "cell_type": "code",
   "execution_count": 30,
   "id": "0e41686f",
   "metadata": {},
   "outputs": [],
   "source": [
    "import requests, os, json, time, csv, requests\n",
    "from bs4 import BeautifulSoup\n",
    "import xml.etree.ElementTree as ET\n",
    "from collections import Counter\n",
    "\n",
    "from ade_imi.data_conf import base_data_folder\n"
   ]
  },
  {
   "cell_type": "code",
   "execution_count": 43,
   "id": "0371caab",
   "metadata": {},
   "outputs": [],
   "source": [
    "orcid_folder = base_data_folder + 'orcid/'\n",
    "experts_folder = orcid_folder + 'experts/'\n",
    "html_folder = orcid_folder + 'html/'\n",
    "grid_id_csv = orcid_folder + 'grid_id/grid.csv'\n",
    "expert_articles_file = experts_folder + 'expert_articles.json'\n",
    "id2exp_xml_file = experts_folder + 'id2exp_xml.json'\n",
    "\n",
    "for folder in [orcid_folder, experts_folder, html_folder] :\n",
    "    if not os.path.exists(folder) :\n",
    "        os.mkdir(folder)"
   ]
  },
  {
   "cell_type": "code",
   "execution_count": 3,
   "id": "2568f9ca",
   "metadata": {},
   "outputs": [],
   "source": [
    "with open(expert_articles_file) as f :\n",
    "    id2expert_name = json.load(f)"
   ]
  },
  {
   "cell_type": "code",
   "execution_count": 4,
   "id": "6de00847",
   "metadata": {},
   "outputs": [],
   "source": [
    "res = None\n",
    "for cont in id2expert_name.items() :\n",
    "    if 'Works' in str(cont) :\n",
    "        res = cont\n",
    "        break"
   ]
  },
  {
   "cell_type": "code",
   "execution_count": 19,
   "id": "acf4bbc4",
   "metadata": {},
   "outputs": [
    {
     "data": {
      "text/plain": [
       "[('doi', 762620),\n",
       " ('eid', 318475),\n",
       " ('issn', 174768),\n",
       " ('pmid', 120934),\n",
       " ('wosuid', 89089),\n",
       " ('isbn', 69808),\n",
       " ('source-work-id', 59467),\n",
       " ('other-id', 46309),\n",
       " ('arxiv', 45723),\n",
       " ('pmc', 35635),\n",
       " ('uri', 8909),\n",
       " ('bibcode', 6980),\n",
       " ('handle', 3818),\n",
       " ('dnb', 2773),\n",
       " ('urn', 2452),\n",
       " ('lensid', 1497),\n",
       " ('authenticusid', 1444),\n",
       " ('hal', 1309),\n",
       " ('pat', 1123),\n",
       " ('ppr', 328),\n",
       " ('cienciaiul', 200),\n",
       " ('asin', 118),\n",
       " ('mr', 32),\n",
       " ('oclc', 31),\n",
       " ('grant_number', 28),\n",
       " ('ssrn', 27),\n",
       " ('kuid', 27),\n",
       " ('ol', 23),\n",
       " ('lccn', 12),\n",
       " ('ethos', 11),\n",
       " ('jstor', 10),\n",
       " ('ark', 6),\n",
       " ('asin-tld', 6),\n",
       " ('proposal-id', 2),\n",
       " ('agr', 2),\n",
       " ('hir', 1),\n",
       " ('zbl', 1),\n",
       " ('cba', 1),\n",
       " ('cit', 1),\n",
       " ('rfc', 1)]"
      ]
     },
     "execution_count": 19,
     "metadata": {},
     "output_type": "execute_result"
    }
   ],
   "source": [
    "count =  Counter()\n",
    "for works in id2expert_name.values() :\n",
    "    for work in works :\n",
    "        if 'external-ids' in work :\n",
    "            links = work['external-ids']['external-id']\n",
    "            if links :\n",
    "                if type(links) is list :\n",
    "                    count.update( [link['external-id-type']  for link in links] )\n",
    "                else :\n",
    "                    count[links['external-id-type']] += 1\n",
    "list(sorted(count.items(), reverse=True, key = lambda x : x[1]))"
   ]
  },
  {
   "cell_type": "code",
   "execution_count": 47,
   "id": "646ea8c8",
   "metadata": {},
   "outputs": [],
   "source": [
    "bibcode = []\n",
    "res = None\n",
    "for works in id2expert_name.values() :\n",
    "    for work in works :\n",
    "        if 'external-ids' in work :\n",
    "            links = work['external-ids']['external-id']\n",
    "            if links :\n",
    "                if not type(links) is list :\n",
    "                    links = [links]\n",
    "                for link in links :\n",
    "                    if link['external-id-type'] == 'bibcode' :\n",
    "                        bibcode.append(link['external-id-value'])\n"
   ]
  },
  {
   "cell_type": "code",
   "execution_count": 48,
   "id": "16fe3559",
   "metadata": {},
   "outputs": [
    {
     "data": {
      "text/plain": [
       "6980"
      ]
     },
     "execution_count": 48,
     "metadata": {},
     "output_type": "execute_result"
    }
   ],
   "source": [
    "len(bibcode)"
   ]
  },
  {
   "cell_type": "code",
   "execution_count": 49,
   "id": "94ffdd14",
   "metadata": {},
   "outputs": [
    {
     "data": {
      "text/plain": [
       "'2008SoPh..251..179N'"
      ]
     },
     "execution_count": 49,
     "metadata": {},
     "output_type": "execute_result"
    }
   ],
   "source": [
    "bibcode[0]"
   ]
  },
  {
   "cell_type": "code",
   "execution_count": 55,
   "id": "cfdcd1ee",
   "metadata": {},
   "outputs": [],
   "source": [
    "bibcode_elem = bibcode[0]\n",
    "\n",
    "base_url = 'https://ui.adsabs.harvard.edu/abs/%s/abstract' \n",
    "url = base_url % bibcode_elem\n",
    "save_file = html_folder + f'bibcode__{bibcode_elem}.html'"
   ]
  },
  {
   "cell_type": "code",
   "execution_count": 59,
   "id": "2f086f51",
   "metadata": {},
   "outputs": [],
   "source": [
    "bibcode_html = requests.get(url).text"
   ]
  },
  {
   "cell_type": "code",
   "execution_count": 60,
   "id": "43bfd495",
   "metadata": {},
   "outputs": [
    {
     "data": {
      "text/plain": [
       "{'__name__': 'requests.exceptions',\n",
       " '__doc__': \"\\nrequests.exceptions\\n~~~~~~~~~~~~~~~~~~~\\n\\nThis module contains the set of Requests' exceptions.\\n\",\n",
       " '__package__': 'requests',\n",
       " '__loader__': <_frozen_importlib_external.SourceFileLoader at 0x240393afcd0>,\n",
       " '__spec__': ModuleSpec(name='requests.exceptions', loader=<_frozen_importlib_external.SourceFileLoader object at 0x00000240393AFCD0>, origin='C:\\\\Users\\\\mdevaux\\\\Anaconda3\\\\envs\\\\unil\\\\lib\\\\site-packages\\\\requests\\\\exceptions.py'),\n",
       " '__file__': 'C:\\\\Users\\\\mdevaux\\\\Anaconda3\\\\envs\\\\unil\\\\lib\\\\site-packages\\\\requests\\\\exceptions.py',\n",
       " '__cached__': 'C:\\\\Users\\\\mdevaux\\\\Anaconda3\\\\envs\\\\unil\\\\lib\\\\site-packages\\\\requests\\\\__pycache__\\\\exceptions.cpython-39.pyc',\n",
       " '__builtins__': {'__name__': 'builtins',\n",
       "  '__doc__': \"Built-in functions, exceptions, and other objects.\\n\\nNoteworthy: None is the `nil' object; Ellipsis represents `...' in slices.\",\n",
       "  '__package__': '',\n",
       "  '__loader__': _frozen_importlib.BuiltinImporter,\n",
       "  '__spec__': ModuleSpec(name='builtins', loader=<class '_frozen_importlib.BuiltinImporter'>, origin='built-in'),\n",
       "  '__build_class__': <function __build_class__>,\n",
       "  '__import__': <function __import__>,\n",
       "  'abs': <function abs(x, /)>,\n",
       "  'all': <function all(iterable, /)>,\n",
       "  'any': <function any(iterable, /)>,\n",
       "  'ascii': <function ascii(obj, /)>,\n",
       "  'bin': <function bin(number, /)>,\n",
       "  'breakpoint': <function breakpoint>,\n",
       "  'callable': <function callable(obj, /)>,\n",
       "  'chr': <function chr(i, /)>,\n",
       "  'compile': <function compile(source, filename, mode, flags=0, dont_inherit=False, optimize=-1, *, _feature_version=-1)>,\n",
       "  'delattr': <function delattr(obj, name, /)>,\n",
       "  'dir': <function dir>,\n",
       "  'divmod': <function divmod(x, y, /)>,\n",
       "  'eval': <function eval(source, globals=None, locals=None, /)>,\n",
       "  'exec': <function exec(source, globals=None, locals=None, /)>,\n",
       "  'format': <function format(value, format_spec='', /)>,\n",
       "  'getattr': <function getattr>,\n",
       "  'globals': <function globals()>,\n",
       "  'hasattr': <function hasattr(obj, name, /)>,\n",
       "  'hash': <function hash(obj, /)>,\n",
       "  'hex': <function hex(number, /)>,\n",
       "  'id': <function id(obj, /)>,\n",
       "  'input': <bound method Kernel.raw_input of <ipykernel.ipkernel.IPythonKernel object at 0x000002403923FF70>>,\n",
       "  'isinstance': <function isinstance(obj, class_or_tuple, /)>,\n",
       "  'issubclass': <function issubclass(cls, class_or_tuple, /)>,\n",
       "  'iter': <function iter>,\n",
       "  'len': <function len(obj, /)>,\n",
       "  'locals': <function locals()>,\n",
       "  'max': <function max>,\n",
       "  'min': <function min>,\n",
       "  'next': <function next>,\n",
       "  'oct': <function oct(number, /)>,\n",
       "  'ord': <function ord(c, /)>,\n",
       "  'pow': <function pow(base, exp, mod=None)>,\n",
       "  'print': <function print>,\n",
       "  'repr': <function repr(obj, /)>,\n",
       "  'round': <function round(number, ndigits=None)>,\n",
       "  'setattr': <function setattr(obj, name, value, /)>,\n",
       "  'sorted': <function sorted(iterable, /, *, key=None, reverse=False)>,\n",
       "  'sum': <function sum(iterable, /, start=0)>,\n",
       "  'vars': <function vars>,\n",
       "  'None': None,\n",
       "  'Ellipsis': Ellipsis,\n",
       "  'NotImplemented': NotImplemented,\n",
       "  'False': False,\n",
       "  'True': True,\n",
       "  'bool': bool,\n",
       "  'memoryview': memoryview,\n",
       "  'bytearray': bytearray,\n",
       "  'bytes': bytes,\n",
       "  'classmethod': classmethod,\n",
       "  'complex': complex,\n",
       "  'dict': dict,\n",
       "  'enumerate': enumerate,\n",
       "  'filter': filter,\n",
       "  'float': float,\n",
       "  'frozenset': frozenset,\n",
       "  'property': property,\n",
       "  'int': int,\n",
       "  'list': list,\n",
       "  'map': map,\n",
       "  'object': object,\n",
       "  'range': range,\n",
       "  'reversed': reversed,\n",
       "  'set': set,\n",
       "  'slice': slice,\n",
       "  'staticmethod': staticmethod,\n",
       "  'str': str,\n",
       "  'super': super,\n",
       "  'tuple': tuple,\n",
       "  'type': type,\n",
       "  'zip': zip,\n",
       "  '__debug__': True,\n",
       "  'BaseException': BaseException,\n",
       "  'Exception': Exception,\n",
       "  'TypeError': TypeError,\n",
       "  'StopAsyncIteration': StopAsyncIteration,\n",
       "  'StopIteration': StopIteration,\n",
       "  'GeneratorExit': GeneratorExit,\n",
       "  'SystemExit': SystemExit,\n",
       "  'KeyboardInterrupt': KeyboardInterrupt,\n",
       "  'ImportError': ImportError,\n",
       "  'ModuleNotFoundError': ModuleNotFoundError,\n",
       "  'OSError': OSError,\n",
       "  'EnvironmentError': OSError,\n",
       "  'IOError': OSError,\n",
       "  'WindowsError': OSError,\n",
       "  'EOFError': EOFError,\n",
       "  'RuntimeError': RuntimeError,\n",
       "  'RecursionError': RecursionError,\n",
       "  'NotImplementedError': NotImplementedError,\n",
       "  'NameError': NameError,\n",
       "  'UnboundLocalError': UnboundLocalError,\n",
       "  'AttributeError': AttributeError,\n",
       "  'SyntaxError': SyntaxError,\n",
       "  'IndentationError': IndentationError,\n",
       "  'TabError': TabError,\n",
       "  'LookupError': LookupError,\n",
       "  'IndexError': IndexError,\n",
       "  'KeyError': KeyError,\n",
       "  'ValueError': ValueError,\n",
       "  'UnicodeError': UnicodeError,\n",
       "  'UnicodeEncodeError': UnicodeEncodeError,\n",
       "  'UnicodeDecodeError': UnicodeDecodeError,\n",
       "  'UnicodeTranslateError': UnicodeTranslateError,\n",
       "  'AssertionError': AssertionError,\n",
       "  'ArithmeticError': ArithmeticError,\n",
       "  'FloatingPointError': FloatingPointError,\n",
       "  'OverflowError': OverflowError,\n",
       "  'ZeroDivisionError': ZeroDivisionError,\n",
       "  'SystemError': SystemError,\n",
       "  'ReferenceError': ReferenceError,\n",
       "  'MemoryError': MemoryError,\n",
       "  'BufferError': BufferError,\n",
       "  'Warning': Warning,\n",
       "  'UserWarning': UserWarning,\n",
       "  'DeprecationWarning': DeprecationWarning,\n",
       "  'PendingDeprecationWarning': PendingDeprecationWarning,\n",
       "  'SyntaxWarning': SyntaxWarning,\n",
       "  'RuntimeWarning': RuntimeWarning,\n",
       "  'FutureWarning': FutureWarning,\n",
       "  'ImportWarning': ImportWarning,\n",
       "  'UnicodeWarning': UnicodeWarning,\n",
       "  'BytesWarning': BytesWarning,\n",
       "  'ResourceWarning': ResourceWarning,\n",
       "  'ConnectionError': ConnectionError,\n",
       "  'BlockingIOError': BlockingIOError,\n",
       "  'BrokenPipeError': BrokenPipeError,\n",
       "  'ChildProcessError': ChildProcessError,\n",
       "  'ConnectionAbortedError': ConnectionAbortedError,\n",
       "  'ConnectionRefusedError': ConnectionRefusedError,\n",
       "  'ConnectionResetError': ConnectionResetError,\n",
       "  'FileExistsError': FileExistsError,\n",
       "  'FileNotFoundError': FileNotFoundError,\n",
       "  'IsADirectoryError': IsADirectoryError,\n",
       "  'NotADirectoryError': NotADirectoryError,\n",
       "  'InterruptedError': InterruptedError,\n",
       "  'PermissionError': PermissionError,\n",
       "  'ProcessLookupError': ProcessLookupError,\n",
       "  'TimeoutError': TimeoutError,\n",
       "  'open': <function io.open(file, mode='r', buffering=-1, encoding=None, errors=None, newline=None, closefd=True, opener=None)>,\n",
       "  'copyright': Copyright (c) 2001-2021 Python Software Foundation.\n",
       "  All Rights Reserved.\n",
       "  \n",
       "  Copyright (c) 2000 BeOpen.com.\n",
       "  All Rights Reserved.\n",
       "  \n",
       "  Copyright (c) 1995-2001 Corporation for National Research Initiatives.\n",
       "  All Rights Reserved.\n",
       "  \n",
       "  Copyright (c) 1991-1995 Stichting Mathematisch Centrum, Amsterdam.\n",
       "  All Rights Reserved.,\n",
       "  'credits':     Thanks to CWI, CNRI, BeOpen.com, Zope Corporation and a cast of thousands\n",
       "      for supporting Python development.  See www.python.org for more information.,\n",
       "  'license': See https://www.python.org/psf/license/,\n",
       "  'help': Type help() for interactive help, or help(object) for help about object.,\n",
       "  '__IPYTHON__': True,\n",
       "  'display': <function IPython.core.display.display(*objs, include=None, exclude=None, metadata=None, transient=None, display_id=None, **kwargs)>,\n",
       "  'get_ipython': <bound method InteractiveShell.get_ipython of <ipykernel.zmqshell.ZMQInteractiveShell object at 0x000002403923FD60>>},\n",
       " 'BaseHTTPError': urllib3.exceptions.HTTPError,\n",
       " 'RequestException': requests.exceptions.RequestException,\n",
       " 'HTTPError': requests.exceptions.HTTPError,\n",
       " 'ConnectionError': requests.exceptions.ConnectionError,\n",
       " 'ProxyError': requests.exceptions.ProxyError,\n",
       " 'SSLError': requests.exceptions.SSLError,\n",
       " 'Timeout': requests.exceptions.Timeout,\n",
       " 'ConnectTimeout': requests.exceptions.ConnectTimeout,\n",
       " 'ReadTimeout': requests.exceptions.ReadTimeout,\n",
       " 'URLRequired': requests.exceptions.URLRequired,\n",
       " 'TooManyRedirects': requests.exceptions.TooManyRedirects,\n",
       " 'MissingSchema': requests.exceptions.MissingSchema,\n",
       " 'InvalidSchema': requests.exceptions.InvalidSchema,\n",
       " 'InvalidURL': requests.exceptions.InvalidURL,\n",
       " 'InvalidHeader': requests.exceptions.InvalidHeader,\n",
       " 'InvalidProxyURL': requests.exceptions.InvalidProxyURL,\n",
       " 'ChunkedEncodingError': requests.exceptions.ChunkedEncodingError,\n",
       " 'ContentDecodingError': requests.exceptions.ContentDecodingError,\n",
       " 'StreamConsumedError': requests.exceptions.StreamConsumedError,\n",
       " 'RetryError': requests.exceptions.RetryError,\n",
       " 'UnrewindableBodyError': requests.exceptions.UnrewindableBodyError,\n",
       " 'RequestsWarning': requests.exceptions.RequestsWarning,\n",
       " 'FileModeWarning': requests.exceptions.FileModeWarning,\n",
       " 'RequestsDependencyWarning': requests.exceptions.RequestsDependencyWarning}"
      ]
     },
     "execution_count": 60,
     "metadata": {},
     "output_type": "execute_result"
    }
   ],
   "source": [
    "requests.exceptions.__dict__"
   ]
  },
  {
   "cell_type": "code",
   "execution_count": 67,
   "id": "41247889",
   "metadata": {},
   "outputs": [
    {
     "data": {
      "text/plain": [
       "requests.exceptions.InvalidURL"
      ]
     },
     "execution_count": 67,
     "metadata": {},
     "output_type": "execute_result"
    }
   ],
   "source": [
    "requests.exceptions.InvalidURL"
   ]
  }
 ],
 "metadata": {
  "kernelspec": {
   "display_name": "unil",
   "language": "python",
   "name": "unil"
  },
  "language_info": {
   "codemirror_mode": {
    "name": "ipython",
    "version": 3
   },
   "file_extension": ".py",
   "mimetype": "text/x-python",
   "name": "python",
   "nbconvert_exporter": "python",
   "pygments_lexer": "ipython3",
   "version": "3.9.7 (default, Sep 16 2021, 16:59:28) [MSC v.1916 64 bit (AMD64)]"
  }
 },
 "nbformat": 4,
 "nbformat_minor": 5
}
